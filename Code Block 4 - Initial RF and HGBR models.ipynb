{
 "cells": [
  {
   "cell_type": "markdown",
   "metadata": {},
   "source": [
    "# This file is representing the basic Random Forest and HistGradientBoosting Regressor Models without any hyperparameters and shows their performance"
   ]
  },
  {
   "cell_type": "markdown",
   "metadata": {},
   "source": [
    "### WARNING - please place the file in the same directory as the dataset csv file"
   ]
  },
  {
   "cell_type": "markdown",
   "metadata": {},
   "source": [
    "##### importing the necessary modules"
   ]
  },
  {
   "cell_type": "code",
   "execution_count": 1,
   "metadata": {},
   "outputs": [],
   "source": [
    "import pandas as pd\n",
    "import numpy as np\n",
    "from sklearn.ensemble import RandomForestRegressor\n",
    "from sklearn.preprocessing import StandardScaler\n",
    "from sklearn.metrics import mean_squared_error\n",
    "from sklearn.model_selection import TimeSeriesSplit\n",
    "from sklearn.ensemble import HistGradientBoostingRegressor\n",
    "from sklearn.preprocessing import LabelEncoder\n",
    "import matplotlib.pyplot as plt\n",
    "import time"
   ]
  },
  {
   "cell_type": "code",
   "execution_count": 2,
   "metadata": {},
   "outputs": [],
   "source": [
    "# importing data\n",
    "data = pd.read_csv('Products_Information.csv')\n",
    "\n",
    "# as the date is an 'object', changing it into datetime64(ms) format\n",
    "data['date'] = pd.to_datetime(data['date'])\n",
    "\n",
    "# setting the date as index\n",
    "data.set_index('date', inplace=True)\n",
    "\n"
   ]
  },
  {
   "cell_type": "markdown",
   "metadata": {},
   "source": [
    "##### Removing Outliers"
   ]
  },
  {
   "cell_type": "code",
   "execution_count": 3,
   "metadata": {},
   "outputs": [],
   "source": [
    "data = data[data['sales'] <= 40000]"
   ]
  },
  {
   "cell_type": "markdown",
   "metadata": {},
   "source": [
    "##### extracting date features from date index and label encoding them"
   ]
  },
  {
   "cell_type": "code",
   "execution_count": 4,
   "metadata": {},
   "outputs": [],
   "source": [
    "# breaking the date into day_of_week, month and day_of_month\n",
    "data['day_of_week'] = data.index.dayofweek\n",
    "data['month'] = data.index.month\n",
    "data['day_of_month'] = data.index.day\n",
    "\n",
    "# label encoding the month\n",
    "label_encoder = LabelEncoder()\n",
    "data['month'] = label_encoder.fit_transform(data['month'])\n"
   ]
  },
  {
   "cell_type": "code",
   "execution_count": 5,
   "metadata": {},
   "outputs": [],
   "source": [
    "# storing our data into a new variable \n",
    "data_encoded = data.copy(deep=True)"
   ]
  },
  {
   "cell_type": "markdown",
   "metadata": {},
   "source": [
    "##### Lagged Feature and Rolling Windows"
   ]
  },
  {
   "cell_type": "code",
   "execution_count": 6,
   "metadata": {},
   "outputs": [],
   "source": [
    "# lagged feature capturing the sales data of the previous week's same day\n",
    "data_encoded['sales_lag_7'] = data_encoded.groupby(['store_nbr', 'product_type'])['sales'].shift(7)\n",
    "\n",
    "# rolling windows \n",
    "data_encoded['rolling_window_7_skew'] = data_encoded.groupby(['store_nbr', 'product_type'])['sales'].shift(1).rolling(window=7).skew()\n",
    "\n",
    "data_encoded['rolling_window_7_std'] = data_encoded.groupby(['store_nbr', 'product_type'])['sales'].shift(1).rolling(window=7).std()\n"
   ]
  },
  {
   "cell_type": "markdown",
   "metadata": {},
   "source": [
    "## Label Encoding product_type"
   ]
  },
  {
   "cell_type": "code",
   "execution_count": 7,
   "metadata": {},
   "outputs": [],
   "source": [
    "label_encoder = LabelEncoder()\n",
    "\n",
    "data_encoded['product_type'] = label_encoder.fit_transform(data['product_type'])"
   ]
  },
  {
   "cell_type": "code",
   "execution_count": 8,
   "metadata": {},
   "outputs": [],
   "source": [
    "# removing the id column\n",
    "data_encoded = data_encoded.drop('id',axis = 1)"
   ]
  },
  {
   "cell_type": "markdown",
   "metadata": {},
   "source": [
    "## splitting the data"
   ]
  },
  {
   "cell_type": "code",
   "execution_count": 9,
   "metadata": {},
   "outputs": [],
   "source": [
    "# splitting the dataset into training and predictions\n",
    "\n",
    "training_data = data_encoded['2016-01-01':'2017-07-30']\n",
    "\n",
    "prediction_data = data_encoded['2017-07-31':'2017-08-15']\n"
   ]
  },
  {
   "cell_type": "markdown",
   "metadata": {},
   "source": [
    "## HISTGRADIENTBOOSTING REGRESSOR MODEL"
   ]
  },
  {
   "cell_type": "code",
   "execution_count": 10,
   "metadata": {},
   "outputs": [
    {
     "name": "stdout",
     "output_type": "stream",
     "text": [
      "HGBR Model took 1.41 seconds.\n",
      "RMSE for this fold's validation set: 226.2983536990731\n",
      "\n",
      "\n",
      "HGBR Model took 1.66 seconds.\n",
      "RMSE for this fold's validation set: 379.5254662991275\n",
      "\n",
      "\n",
      "HGBR Model took 1.76 seconds.\n",
      "RMSE for this fold's validation set: 295.95613014409764\n",
      "\n",
      "\n"
     ]
    }
   ],
   "source": [
    "# Getting the features and target variable\n",
    "X = training_data.drop(['sales'], axis=1)\n",
    "y = training_data['sales']\n",
    "\n",
    "# Initialize the TimeSeriesSplit\n",
    "tscv = TimeSeriesSplit(n_splits=3) \n",
    "\n",
    "# Initialize the model\n",
    "# Using the random_state = 20 for everything in our coursework to mentain\n",
    "# consistency and reproducability.\n",
    "model = HistGradientBoostingRegressor(random_state=20,\n",
    "                                      categorical_features = ['day_of_week', 'month', 'day_of_month','store_nbr', 'product_type'])\n",
    "\n",
    "# Iterate through the splits\n",
    "for train_index, test_index in tscv.split(X):\n",
    "    X_train, X_test = X.iloc[train_index], X.iloc[test_index]\n",
    "    y_train, y_test = y.iloc[train_index], y.iloc[test_index]\n",
    "\n",
    "    # using the time module to capture the time it takes to run the model\n",
    "    # Start the timer\n",
    "    start_time = time.time()\n",
    "\n",
    "    # Fit the model on the training data\n",
    "    model.fit(X_train, y_train)\n",
    "\n",
    "    # Stop the timer\n",
    "    elapsed_time = time.time() - start_time\n",
    "    print(f\"HGBR Model took {elapsed_time:.2f} seconds.\")\n",
    "\n",
    "\n",
    "    # Make predictions on the test set\n",
    "    predictions = model.predict(X_test)\n",
    "\n",
    "    # Evaluate the model's performance on validation set\n",
    "    mse = mean_squared_error(y_test, predictions)\n",
    "    rmse = np.sqrt(mse)\n",
    "\n",
    "    print(f\"RMSE for this fold's validation set: {rmse}\")\n",
    "    print(\"\\n\")\n"
   ]
  },
  {
   "cell_type": "code",
   "execution_count": 11,
   "metadata": {},
   "outputs": [
    {
     "name": "stdout",
     "output_type": "stream",
     "text": [
      "RMSE for our test data for HGBR model: 245.79410385450058\n"
     ]
    }
   ],
   "source": [
    "# This is to test on our Predictons Dataset\n",
    "\n",
    "X_evaluation = prediction_data.drop(['sales'], axis = 1)\n",
    "y_evaluation = prediction_data['sales'] \n",
    "y_predictions = model.predict(X_evaluation)\n",
    "\n",
    "# Evaluate the model performance on test set\n",
    "mse_test = mean_squared_error(y_evaluation, y_predictions)\n",
    "rmse_test = np.sqrt(mse_test)\n",
    "print(f\"RMSE for our test data for HGBR model: {rmse_test}\")"
   ]
  },
  {
   "cell_type": "markdown",
   "metadata": {},
   "source": [
    "## RANDOM FOREST REGRESSOR MODEL"
   ]
  },
  {
   "cell_type": "code",
   "execution_count": 12,
   "metadata": {},
   "outputs": [
    {
     "name": "stdout",
     "output_type": "stream",
     "text": [
      "Random Forest Model took 18.20 seconds.\n",
      "RMSE for this fold's validation set: 238.3311445333391\n",
      "\n",
      "\n",
      "Random Forest Model took 40.24 seconds.\n",
      "RMSE for this fold's validation set: 408.916293306572\n",
      "\n",
      "\n",
      "Random Forest Model took 66.03 seconds.\n",
      "RMSE for this fold's validation set: 286.74186146205767\n",
      "\n",
      "\n"
     ]
    }
   ],
   "source": [
    "# Getting the features and target variable\n",
    "X = training_data.drop(['sales'], axis=1)\n",
    "y = training_data['sales']\n",
    "\n",
    "# Initialize the TimeSeriesSplit\n",
    "tscv = TimeSeriesSplit(n_splits=3) \n",
    "\n",
    "# Initialize the model\n",
    "# Using the random_state = 20 for everything in our coursework to mentain\n",
    "# consistency and reproducability.\n",
    "model = RandomForestRegressor(random_state=20, n_jobs=-1)\n",
    "\n",
    "# Iterate through the splits\n",
    "for train_index, test_index in tscv.split(X):\n",
    "    X_train, X_test = X.iloc[train_index], X.iloc[test_index]\n",
    "    y_train, y_test = y.iloc[train_index], y.iloc[test_index]\n",
    "\n",
    "    # using the time module to capture the time it takes to run the model\n",
    "    # Start the timer\n",
    "    start_time = time.time()\n",
    "\n",
    "    # Fit the model on the training data\n",
    "    model.fit(X_train, y_train)\n",
    "\n",
    "    # Stop the timer\n",
    "    elapsed_time = time.time() - start_time\n",
    "    print(f\"Random Forest Model took {elapsed_time:.2f} seconds.\")\n",
    "\n",
    "\n",
    "    # Make predictions on the test set\n",
    "    predictions = model.predict(X_test)\n",
    "\n",
    "    # Evaluate the model's performance on validation set\n",
    "    mse = mean_squared_error(y_test, predictions)\n",
    "    rmse = np.sqrt(mse)\n",
    "\n",
    "    print(f\"RMSE for this fold's validation set: {rmse}\")\n",
    "    print(\"\\n\")\n"
   ]
  },
  {
   "cell_type": "code",
   "execution_count": 13,
   "metadata": {},
   "outputs": [
    {
     "name": "stdout",
     "output_type": "stream",
     "text": [
      "RMSE for our test data for Random Forest model: 272.4838764974486\n"
     ]
    }
   ],
   "source": [
    "# This is to test on our Predictons Dataset\n",
    "\n",
    "X_evaluation = prediction_data.drop(['sales'], axis = 1)\n",
    "y_evaluation = prediction_data['sales'] \n",
    "y_predictions = model.predict(X_evaluation)\n",
    "\n",
    "# Evaluate the model performance on test set\n",
    "mse = mean_squared_error(y_evaluation, y_predictions)\n",
    "rmse = np.sqrt(mse)\n",
    "print(f\"RMSE for our test data for Random Forest model: {rmse}\")"
   ]
  },
  {
   "cell_type": "markdown",
   "metadata": {},
   "source": [
    "## END OF FILE"
   ]
  }
 ],
 "metadata": {
  "kernelspec": {
   "display_name": "base",
   "language": "python",
   "name": "python3"
  },
  "language_info": {
   "codemirror_mode": {
    "name": "ipython",
    "version": 3
   },
   "file_extension": ".py",
   "mimetype": "text/x-python",
   "name": "python",
   "nbconvert_exporter": "python",
   "pygments_lexer": "ipython3",
   "version": "3.11.4"
  }
 },
 "nbformat": 4,
 "nbformat_minor": 2
}
